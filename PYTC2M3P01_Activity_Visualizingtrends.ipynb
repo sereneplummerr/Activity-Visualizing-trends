{
 "cells": [
  {
   "cell_type": "markdown",
   "id": "0f2969e7-5a7a-45f3-b9cf-b9174f69e862",
   "metadata": {},
   "source": [
    "# How to Interact with this Jupyter Notebook\n",
    "\n",
    "In this activity, you will use a Jupyter Notebook, which integrates both text and code. The gray boxes contain executable code, which you will run in order to view its output. The text in between the code provides instructions."
   ]
  },
  {
   "cell_type": "markdown",
   "id": "742bfba1",
   "metadata": {},
   "source": [
    "## Step 1: Installing required libraries\n",
    "\n",
    "Run the cell below, which installs all necessary libraries."
   ]
  },
  {
   "cell_type": "code",
   "execution_count": null,
   "id": "6fc030a2",
   "metadata": {},
   "outputs": [],
   "source": [
    "!pip install pandas matplotlib plotly.express"
   ]
  },
  {
   "cell_type": "markdown",
   "id": "17bb8a5c",
   "metadata": {},
   "source": [
    "## Step 2: Loading and exploring the data\n",
    "\n",
    "Run the cell below, which imports all necessary libraries, loads `music_data.csv`, and displays the first 5 rows to get information about the columns. This cell does not change."
   ]
  },
  {
   "cell_type": "code",
   "execution_count": null,
   "id": "668d52f4",
   "metadata": {
    "deletable": false,
    "editable": false,
    "trusted": true
   },
   "outputs": [],
   "source": [
    "import pandas as pd\n",
    "import matplotlib.pyplot as plt\n",
    "\n",
    "# Load the dataset\n",
    "music_data = pd.read_csv('music_data.csv')\n",
    "\n",
    "# Display the first 5 rows\n",
    "print(\"First 5 rows of the dataset:\")\n",
    "print(music_data.head())\n",
    "\n",
    "# Get information about the columns (data types and non-null values)\n",
    "print(\"\\nColumn information:\")\n",
    "print(music_data.info())"
   ]
  },
  {
   "cell_type": "markdown",
   "id": "c3170a9d-7b0c-4667-a26d-1394395404da",
   "metadata": {},
   "source": [
    "## Step 3: Generating a bar chart using Matplotlib's pyplot module\n",
    "\n",
    "Follow the steps in the instructions and run the cell below."
   ]
  },
  {
   "cell_type": "code",
   "execution_count": null,
   "id": "8b06f041",
   "metadata": {},
   "outputs": [],
   "source": [
    "# Count the occurrences of each unique value in the `genre` column\n",
    "genre_counts = music_data['genre'].value_counts()   \n",
    "\n",
    "# Sort the genres by frequency in descending order and select the top 10 genres\n",
    "top_10_genres = genre_counts.head(10)\n",
    "\n",
    "# Create a bar chart to display the top 10 genres by frequency\n",
    "plt.figure(figsize=(10, 6)) \n",
    "top_10_genres.plot(kind='bar')\n",
    "\n",
    "# Add title and labels\n",
    "plt.title('') # insert code here \n",
    "plt.xlabel('') # insert code here \n",
    "plt.ylabel('') # insert code here \n",
    "\n",
    "# Display the plot using plt.show()\n",
    "# insert code here "
   ]
  },
  {
   "cell_type": "markdown",
   "id": "f58394fa-bf2c-4717-a944-9d5a2639d6b9",
   "metadata": {},
   "source": [
    "## Step 4: Generating a histogram using Matplotlib's plt.figure()\n",
    "\n",
    "Follow the steps in the instructions and run the cell below."
   ]
  },
  {
   "cell_type": "code",
   "execution_count": null,
   "id": "baa856c4",
   "metadata": {},
   "outputs": [],
   "source": [
    "# Extract the duration_seconds column\n",
    "duration_seconds = music_data[] # insert code here \n",
    "\n",
    "# Create a histogram to display the distribution of `duration_seconds`\n",
    "plt.figure(figsize = ()) # insert code here \n",
    "plt.hist(duration_seconds, bins=20, color='skyblue', edgecolor='black')\n",
    "\n",
    "# Add title and labels\n",
    "plt.title('Distribution of Song Durations')\n",
    "plt.xlabel('Duration (seconds)')\n",
    "plt.ylabel('Frequency')\n",
    "\n",
    "# Display the plot using plt.show()\n",
    "# insert code here "
   ]
  },
  {
   "cell_type": "markdown",
   "id": "bf2f3cc0",
   "metadata": {},
   "source": [
    "## Step 5: Generating a histogram using Matplotlib's plt.hist()\n",
    "\n",
    "Follow the steps in the instructions and run the cell below."
   ]
  },
  {
   "cell_type": "code",
   "execution_count": null,
   "id": "6f083567",
   "metadata": {},
   "outputs": [],
   "source": [
    "# Extract the popularity column\n",
    "popularity = music_data[''] # insert code here \n",
    "\n",
    "# Create a histogram to display the distribution of popularity \n",
    "plt.figure(figsize=(8, 5))  # Set the figure size for better readability\n",
    "\n",
    "# Plot the histogram with customized bins and colors\n",
    "plt.hist()  # insert code here\n",
    "\n",
    "# Add title and labels\n",
    "plt.title('Distribution of Song Popularity')\n",
    "plt.xlabel('Popularity')\n",
    "plt.ylabel('Frequency')\n",
    "\n",
    "# Display the plot using plt.show()\n",
    "# insert code here "
   ]
  },
  {
   "cell_type": "markdown",
   "id": "3a3dfdbf",
   "metadata": {},
   "source": [
    "## Step 6: Generating heatmaps using Plotly\n",
    "\n",
    "Follow the steps outlined in your instructions document to complete the code below. Click run to see the results."
   ]
  },
  {
   "cell_type": "code",
   "execution_count": null,
   "id": "b5bdda38",
   "metadata": {},
   "outputs": [],
   "source": [
    "import plotly.express as px\n",
    "\n",
    "# Create a new dataframe `numeric_features` containing only the \n",
    "# numeric columns we want to analyze\n",
    "numeric_features = music_data[['tempo', 'energy', 'danceability', \n",
    "                               'valence', 'acousticness', 'popularity']]\n",
    "\n",
    "# Compute the correlation matrix \n",
    "correlation_matrix = numeric_features.corr()\n",
    "\n",
    "# Create and display a heatmap using Plotly\n",
    "plt = px.imshow(correlation_matrix,\n",
    "                x=correlation_matrix.columns,\n",
    "                y=correlation_matrix.columns,\n",
    "                color_continuous_scale=\"RdBu\",  # Use a built-in Plotly colorscale\n",
    "                # Add code here\n",
    "                title=\"Correlation Matrix of Music Features\"\n",
    "               )\n",
    "\n",
    "plt.show()"
   ]
  },
  {
   "cell_type": "markdown",
   "id": "a86df7d1-a3fc-4043-b470-ae74fb87d0ac",
   "metadata": {},
   "source": [
    "## Step 7: Generating violin plots using Plotly\n",
    "\n",
    "Follow the steps outlined in your instructions document to complete the code below. Click run to see the results."
   ]
  },
  {
   "cell_type": "code",
   "execution_count": null,
   "id": "d421e08b",
   "metadata": {},
   "outputs": [],
   "source": [
    "import plotly.express as px\n",
    "\n",
    "plt = px.violin(music_data, \n",
    "                x='genre', \n",
    "                y='popularity', \n",
    "                # Your code here\n",
    "                title=\"Popularity Distribution Across Genres\")\n",
    "\n",
    "plt.show()"
   ]
  },
  {
   "cell_type": "markdown",
   "id": "cb7f565f",
   "metadata": {},
   "source": [
    "You have reached the end of this exercise."
   ]
  }
 ],
 "metadata": {
  "kernelspec": {
   "display_name": "base",
   "language": "python",
   "name": "python3"
  },
  "language_info": {
   "codemirror_mode": {
    "name": "ipython",
    "version": 3
   },
   "file_extension": ".py",
   "mimetype": "text/x-python",
   "name": "python",
   "nbconvert_exporter": "python",
   "pygments_lexer": "ipython3",
   "version": "3.12.7"
  }
 },
 "nbformat": 4,
 "nbformat_minor": 5
}
